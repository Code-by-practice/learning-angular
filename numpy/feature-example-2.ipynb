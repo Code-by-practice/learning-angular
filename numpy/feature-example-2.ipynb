{
 "cells": [
  {
   "cell_type": "code",
   "execution_count": 8,
   "metadata": {},
   "outputs": [
    {
     "name": "stdout",
     "output_type": "stream",
     "text": [
      "\n",
      "Vertical stacking:\n",
      " [[1 2]\n",
      " [3 4]\n",
      " [5 6]\n",
      " [7 8]]\n",
      "\n",
      "Horizontal stacking:\n",
      " [[1 2 5 6]\n",
      " [3 4 7 8]]\n",
      "\n",
      "Column stacking:\n",
      " [[1 2 5]\n",
      " [3 4 6]]\n",
      "\n",
      "Concatenating to 2nd axis:\n",
      " [[1 2 5 6]\n",
      " [3 4 7 8]]\n"
     ]
    }
   ],
   "source": [
    "import numpy as np\n",
    "\n",
    "A = np.array([\n",
    "    [1, 2],\n",
    "    [3, 4]\n",
    "])\n",
    "\n",
    "B = np.array([\n",
    "    [5, 6],\n",
    "    [7, 8]\n",
    "])\n",
    "\n",
    "print(\"\\nVertical stacking:\\n\", np.vstack((A, B)))\n",
    "\n",
    "print(\"\\nHorizontal stacking:\\n\", np.hstack((A, B)))\n",
    "\n",
    "C = [5, 6]\n",
    "print(\"\\nColumn stacking:\\n\", np.column_stack((A, C)))\n",
    "\n",
    "print(\"\\nConcatenating to 2nd axis:\\n\", np.concatenate((A, B), 1))"
   ]
  },
  {
   "cell_type": "code",
   "execution_count": 11,
   "metadata": {},
   "outputs": [
    {
     "name": "stdout",
     "output_type": "stream",
     "text": [
      "\n",
      "Rank of A:  3\n",
      "\n",
      "Trace of A:  11\n",
      "\n",
      "Determinant of A:  -306.0\n",
      "\n",
      "Inverse of A:  [[ 0.17647059 -0.00326797 -0.02287582]\n",
      " [ 0.05882353 -0.13071895  0.08496732]\n",
      " [-0.11764706  0.1503268   0.05228758]]\n",
      "\n",
      "Matrix A raised to power 3:\n",
      " [[336 162 228]\n",
      " [406 162 469]\n",
      " [698 702 905]]\n"
     ]
    }
   ],
   "source": [
    "import numpy as np\n",
    "\n",
    "A = np.array([\n",
    "    [6, 1, 1],\n",
    "    [4, -2, 5],\n",
    "    [2, 8, 7]\n",
    "])\n",
    "\n",
    "print(\"\\nRank of A: \", np.linalg.matrix_rank(A))\n",
    "\n",
    "print(\"\\nTrace of A: \", np.trace(A))\n",
    "\n",
    "print(\"\\nDeterminant of A: \", np.linalg.det(A))\n",
    "\n",
    "print(\"\\nInverse of A: \", np.linalg.inv(A))\n",
    "\n",
    "print(\"\\nMatrix A raised to power 3:\\n\", np.linalg.matrix_power(A, 3))"
   ]
  },
  {
   "cell_type": "code",
   "execution_count": null,
   "metadata": {},
   "outputs": [],
   "source": []
  }
 ],
 "metadata": {
  "kernelspec": {
   "display_name": "Python 3",
   "language": "python",
   "name": "python3"
  },
  "language_info": {
   "codemirror_mode": {
    "name": "ipython",
    "version": 3
   },
   "file_extension": ".py",
   "mimetype": "text/x-python",
   "name": "python",
   "nbconvert_exporter": "python",
   "pygments_lexer": "ipython3",
   "version": "3.6.4"
  }
 },
 "nbformat": 4,
 "nbformat_minor": 2
}
