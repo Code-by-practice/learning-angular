{
 "cells": [
  {
   "cell_type": "markdown",
   "metadata": {},
   "source": [
    "# Lists and Arrays"
   ]
  },
  {
   "cell_type": "code",
   "execution_count": 5,
   "metadata": {},
   "outputs": [
    {
     "data": {
      "text/plain": [
       "'1.16.4'"
      ]
     },
     "execution_count": 5,
     "metadata": {},
     "output_type": "execute_result"
    }
   ],
   "source": [
    "import numpy as np\n",
    "\n",
    "np.__version__"
   ]
  },
  {
   "cell_type": "code",
   "execution_count": 8,
   "metadata": {},
   "outputs": [
    {
     "name": "stdout",
     "output_type": "stream",
     "text": [
      "Array is of type:  <class 'numpy.ndarray'>\n",
      "No of dimensions:  2\n",
      "Shape of array:  (2, 3)\n",
      "Size of array:  6\n",
      "Array stores elements of type:  int64\n"
     ]
    }
   ],
   "source": [
    "arr = np.array([\n",
    "    [1, 2, 3],\n",
    "    [4, 5, 6]\n",
    "])\n",
    "\n",
    "print(\"Array is of type: \", type(arr))\n",
    "\n",
    "print(\"No of dimensions: \", arr.ndim)\n",
    "\n",
    "print(\"Shape of array: \", arr.shape)\n",
    "\n",
    "print(\"Size of array: \", arr.size)\n",
    "\n",
    "print(\"Array stores elements of type: \", arr.dtype)"
   ]
  },
  {
   "cell_type": "code",
   "execution_count": 10,
   "metadata": {},
   "outputs": [
    {
     "name": "stdout",
     "output_type": "stream",
     "text": [
      "\n",
      "Array created using passed list: \n",
      " [[1. 2. 4.]\n",
      " [5. 8. 7.]]\n",
      "\n",
      "Array created using passed tuple: \n",
      " [1 3 2]\n",
      "\n",
      "Array initialized with all zeros: \n",
      " [0. 0. 0. 0. 0.]\n",
      "\n",
      " Array initialized with all zeros: \n",
      " [[0. 0. 0. 0. 0.]\n",
      " [0. 0. 0. 0. 0.]\n",
      " [0. 0. 0. 0. 0.]\n",
      " [0. 0. 0. 0. 0.]\n",
      " [0. 0. 0. 0. 0.]]\n",
      "\n",
      " Array initialized with all ones: \n",
      " [[1. 1. 1. 1. 1.]\n",
      " [1. 1. 1. 1. 1.]\n",
      " [1. 1. 1. 1. 1.]\n",
      " [1. 1. 1. 1. 1.]\n",
      " [1. 1. 1. 1. 1.]]\n",
      "\n",
      " Array initialized with all randoms: \n",
      " [[0.64659605 0.49548185 0.84817873 0.33611089 0.95804172]\n",
      " [0.10759215 0.74942157 0.7296002  0.35549937 0.84274053]\n",
      " [0.51639052 0.20095072 0.97326726 0.88970329 0.42287097]\n",
      " [0.18771118 0.0228413  0.20073189 0.74063503 0.95171194]\n",
      " [0.7895909  0.53226116 0.38458113 0.33465847 0.8583316 ]]\n"
     ]
    }
   ],
   "source": [
    "A = np.array([\n",
    "    [1, 2, 4],\n",
    "    [5, 8, 7]\n",
    "], dtype = 'float')\n",
    "\n",
    "print(\"\\nArray created using passed list: \\n\", A)\n",
    "\n",
    "B = np.array((1, 3, 2))\n",
    "print(\"\\nArray created using passed tuple: \\n\", B)\n",
    "\n",
    "C = np.zeros(5)\n",
    "print(\"\\nArray initialized with all zeros: \\n\", C)\n",
    "\n",
    "D = np.zeros([5, 5])\n",
    "print(\"\\n Array initialized with all zeros: \\n\", D)\n",
    "\n",
    "E = np.ones([5, 5])\n",
    "print(\"\\n Array initialized with all ones: \\n\", E)\n",
    "\n",
    "F = np.random.random([5, 5])\n",
    "print(\"\\n Array initialized with all randoms: \\n\", F)"
   ]
  },
  {
   "cell_type": "code",
   "execution_count": 11,
   "metadata": {},
   "outputs": [
    {
     "name": "stdout",
     "output_type": "stream",
     "text": [
      "\n",
      "Adding 1 to every element:  [2 3 4 5]\n",
      "\n",
      "Subtracking 3 from each element:  [-2 -1  0  1]\n",
      "\n",
      "Multiplying each element by 10:  [10 20 30 40]\n",
      "\n",
      "Squaring each element:  [ 1  4  9 16]\n",
      "\n",
      "Doubled each element of original array:  [2 4 6 8]\n",
      "\n",
      "Original array: \n",
      " [[1 2 3]\n",
      " [4 5 6]\n",
      " [7 8 9]]\n",
      "\n",
      "Transpose of array: \n",
      " [[1 4 7]\n",
      " [2 5 8]\n",
      " [3 6 9]]\n"
     ]
    }
   ],
   "source": [
    "A = np.array([1, 2, 3, 4])\n",
    "print(\"\\nAdding 1 to every element: \", A + 1)\n",
    "\n",
    "print(\"\\nSubtracking 3 from each element: \", A - 3)\n",
    "\n",
    "print(\"\\nMultiplying each element by 10: \", A * 10)\n",
    "\n",
    "print(\"\\nSquaring each element: \", A**2)\n",
    "\n",
    "A *= 2\n",
    "print(\"\\nDoubled each element of original array: \", A)\n",
    "\n",
    "B = np.array([\n",
    "    [1, 2, 3],\n",
    "    [4, 5, 6],\n",
    "    [7, 8, 9]\n",
    "])\n",
    "print(\"\\nOriginal array: \\n\", B)\n",
    "print(\"\\nTranspose of array: \\n\", B.T)"
   ]
  },
  {
   "cell_type": "code",
   "execution_count": 12,
   "metadata": {},
   "outputs": [
    {
     "name": "stdout",
     "output_type": "stream",
     "text": [
      "\n",
      "Vertical stacking:\n",
      " [[1 2]\n",
      " [3 4]\n",
      " [5 6]\n",
      " [7 8]]\n",
      "\n",
      "Horizontal stacking:\n",
      " [[1 2 5 6]\n",
      " [3 4 7 8]]\n",
      "\n",
      "Column stacking:\n",
      " [[1 2 5]\n",
      " [3 4 6]]\n",
      "\n",
      "Concatenating to 2nd axis:\n",
      " [[1 2 5 6]\n",
      " [3 4 7 8]]\n"
     ]
    }
   ],
   "source": [
    "A = np.array([\n",
    "    [1, 2],\n",
    "    [3, 4]\n",
    "])\n",
    "\n",
    "B = np.array([\n",
    "    [5, 6],\n",
    "    [7, 8]\n",
    "])\n",
    "\n",
    "print(\"\\nVertical stacking:\\n\", np.vstack((A, B)))\n",
    "\n",
    "print(\"\\nHorizontal stacking:\\n\", np.hstack((A, B)))\n",
    "\n",
    "C = [5, 6]\n",
    "print(\"\\nColumn stacking:\\n\", np.column_stack((A, C)))\n",
    "\n",
    "print(\"\\nConcatenating to 2nd axis:\\n\", np.concatenate((A, B), 1))"
   ]
  },
  {
   "cell_type": "code",
   "execution_count": null,
   "metadata": {},
   "outputs": [],
   "source": []
  }
 ],
 "metadata": {
  "kernelspec": {
   "display_name": "Python 3",
   "language": "python",
   "name": "python3"
  },
  "language_info": {
   "codemirror_mode": {
    "name": "ipython",
    "version": 3
   },
   "file_extension": ".py",
   "mimetype": "text/x-python",
   "name": "python",
   "nbconvert_exporter": "python",
   "pygments_lexer": "ipython3",
   "version": "3.6.0"
  }
 },
 "nbformat": 4,
 "nbformat_minor": 2
}
