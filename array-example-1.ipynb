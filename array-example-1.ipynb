{
 "cells": [
  {
   "cell_type": "markdown",
   "metadata": {},
   "source": [
    "Arrays in Numpy"
   ]
  },
  {
   "cell_type": "code",
   "execution_count": 3,
   "metadata": {},
   "outputs": [
    {
     "name": "stdout",
     "output_type": "stream",
     "text": [
      "Array is of type:  <class 'numpy.ndarray'>\n",
      "No of dimensions:  2\n",
      "Shape of array:  (2, 3)\n",
      "Size of array:  6\n",
      "Array stores elements of type:  int64\n"
     ]
    }
   ],
   "source": [
    "import numpy as np\n",
    "\n",
    "arr = np.array([\n",
    "    [1, 2, 3],\n",
    "    [4, 5, 6]\n",
    "])\n",
    "\n",
    "print(\"Array is of type: \", type(arr))\n",
    "\n",
    "print(\"No of dimensions: \", arr.ndim)\n",
    "\n",
    "print(\"Shape of array: \", arr.shape)\n",
    "\n",
    "print(\"Size of array: \", arr.size)\n",
    "\n",
    "print(\"Array stores elements of type: \", arr.dtype)"
   ]
  },
  {
   "cell_type": "code",
   "execution_count": 17,
   "metadata": {},
   "outputs": [
    {
     "name": "stdout",
     "output_type": "stream",
     "text": [
      "\n",
      "Array created using passed list: \n",
      " [[1. 2. 4.]\n",
      " [5. 8. 7.]]\n",
      "\n",
      "Array created using passed tuple: \n",
      " [1 3 2]\n",
      "\n",
      "Array initialized with all zeros: \n",
      " [0. 0. 0. 0. 0.]\n",
      "\n",
      " Array initialized with all zeros: \n",
      " [[0. 0. 0. 0. 0.]\n",
      " [0. 0. 0. 0. 0.]\n",
      " [0. 0. 0. 0. 0.]\n",
      " [0. 0. 0. 0. 0.]\n",
      " [0. 0. 0. 0. 0.]]\n",
      "\n",
      " Array initialized with all ones: \n",
      " [[1. 1. 1. 1. 1.]\n",
      " [1. 1. 1. 1. 1.]\n",
      " [1. 1. 1. 1. 1.]\n",
      " [1. 1. 1. 1. 1.]\n",
      " [1. 1. 1. 1. 1.]]\n",
      "\n",
      " Array initialized with all randoms: \n",
      " [[0.23175901 0.59648284 0.57955601 0.88039001 0.41424681]\n",
      " [0.10746739 0.46331229 0.83101303 0.87672067 0.48254436]\n",
      " [0.70228743 0.98196419 0.0846471  0.55543233 0.35450656]\n",
      " [0.17996194 0.21068395 0.09717479 0.95313781 0.63070908]\n",
      " [0.98631634 0.46474355 0.13607716 0.88618986 0.87086897]]\n"
     ]
    }
   ],
   "source": [
    "import numpy as np\n",
    "\n",
    "A = np.array([\n",
    "    [1, 2, 4],\n",
    "    [5, 8, 7]\n",
    "], dtype = 'float')\n",
    "\n",
    "print(\"\\nArray created using passed list: \\n\", A)\n",
    "\n",
    "B = np.array((1, 3, 2))\n",
    "print(\"\\nArray created using passed tuple: \\n\", B)\n",
    "\n",
    "C = np.zeros(5)\n",
    "print(\"\\nArray initialized with all zeros: \\n\", C)\n",
    "\n",
    "D = np.zeros([5, 5])\n",
    "print(\"\\n Array initialized with all zeros: \\n\", D)\n",
    "\n",
    "E = np.ones([5, 5])\n",
    "print(\"\\n Array initialized with all ones: \\n\", E)\n",
    "\n",
    "F = np.random.random([5, 5])\n",
    "print(\"\\n Array initialized with all randoms: \\n\", F)"
   ]
  },
  {
   "cell_type": "code",
   "execution_count": 23,
   "metadata": {},
   "outputs": [
    {
     "name": "stdout",
     "output_type": "stream",
     "text": [
      "\n",
      " A sequential array with steps of 5: \n",
      " [ 0  5 10 15 20 25]\n",
      "\n",
      " An array initialized with all 6s. with array type is complex: \n",
      " [[6.+0.j 6.+0.j 6.+0.j]\n",
      " [6.+0.j 6.+0.j 6.+0.j]\n",
      " [6.+0.j 6.+0.j 6.+0.j]]\n",
      "\n",
      " A sequence array with 10 values between 0 and 5:\n",
      " [0.         0.55555556 1.11111111 1.66666667 2.22222222 2.77777778\n",
      " 3.33333333 3.88888889 4.44444444 5.        ]\n",
      "\n",
      " Original array: \n",
      " [[1 2 3 4]\n",
      " [5 2 4 2]\n",
      " [1 2 0 1]]\n",
      "\n",
      " Reshaped array: \n",
      " [[[1 2 3]\n",
      "  [4 5 2]]\n",
      "\n",
      " [[4 2 1]\n",
      "  [2 0 1]]]\n",
      "\n",
      " Original array: \n",
      " [[1 2 3]\n",
      " [4 5 6]]\n",
      "\n",
      " Flatten array: \n",
      " [1 2 3 4 5 6]\n"
     ]
    }
   ],
   "source": [
    "import numpy as np\n",
    "\n",
    "A = np.arange(0, 30, 5)\n",
    "print(\"\\n A sequential array with steps of 5: \\n\", A)\n",
    "\n",
    "B = np.full((3, 3), 6, dtype = 'complex')\n",
    "print('\\n An array initialized with all 6s. with array type is complex: \\n', B)\n",
    "\n",
    "C = np.linspace(0, 5, 10)\n",
    "print(\"\\n A sequence array with 10 values between 0 and 5:\\n\", C)\n",
    "\n",
    "D = np.array([\n",
    "    [1, 2, 3, 4],\n",
    "    [5, 2, 4, 2],\n",
    "    [1, 2, 0, 1]\n",
    "])\n",
    "\n",
    "E = D.reshape(2, 2, 3)\n",
    "print(\"\\n Original array: \\n\", D)\n",
    "print(\"\\n Reshaped array: \\n\", E)\n",
    "\n",
    "F = np.array([\n",
    "    [1, 2, 3],\n",
    "    [4, 5, 6]\n",
    "])\n",
    "\n",
    "G = F.flatten()\n",
    "print(\"\\n Original array: \\n\", F)\n",
    "print(\"\\n Flatten array: \\n\", G)"
   ]
  },
  {
   "cell_type": "code",
   "execution_count": 26,
   "metadata": {
    "scrolled": false
   },
   "outputs": [
    {
     "name": "stdout",
     "output_type": "stream",
     "text": [
      "\n",
      "Array with first 2 rows and alternate columns(0 and 2): \n",
      " [[-1.  0.]\n",
      " [ 4.  6.]]\n",
      "\n",
      "Elements at indices (0, 3), (1, 2), (2, 1), (3, 0):\n",
      " [4. 6. 0. 3.]\n"
     ]
    }
   ],
   "source": [
    "import numpy as np\n",
    "\n",
    "A = np.array([\n",
    "    [-1, 2, 0, 4],\n",
    "    [4, -0.5, 6, 0],\n",
    "    [2.6, 0, 7, 8],\n",
    "    [3, -7, 4, 2.0]\n",
    "])\n",
    "\n",
    "B = A[:2, ::2]\n",
    "print(\"\\nArray with first 2 rows and alternate columns(0 and 2): \\n\", B)\n",
    "\n",
    "C = A[\n",
    "    [0, 1, 2, 3],\n",
    "    [3, 2, 1, 0]\n",
    "]\n",
    "print(\"\\nElements at indices (0, 3), (1, 2), (2, 1), (3, 0):\\n\", C)\n"
   ]
  },
  {
   "cell_type": "code",
   "execution_count": 34,
   "metadata": {},
   "outputs": [
    {
     "name": "stdout",
     "output_type": "stream",
     "text": [
      "\n",
      "Adding 1 to every element:  [2 3 4 5]\n",
      "\n",
      "Subtracking 3 from each element:  [-2 -1  0  1]\n",
      "\n",
      "Multiplying each element by 10:  [10 20 30 40]\n",
      "\n",
      "Squaring each element:  [ 1  4  9 16]\n",
      "\n",
      "Doubled each element of original array:  [2 4 6 8]\n",
      "\n",
      "Original array: \n",
      " [[1 2 3]\n",
      " [4 5 6]\n",
      " [7 8 9]]\n",
      "\n",
      "Transpose of array: \n",
      " [[1 4 7]\n",
      " [2 5 8]\n",
      " [3 6 9]]\n"
     ]
    }
   ],
   "source": [
    "import numpy as np\n",
    "\n",
    "A = np.array([1, 2, 3, 4])\n",
    "print(\"\\nAdding 1 to every element: \", A + 1)\n",
    "\n",
    "print(\"\\nSubtracking 3 from each element: \", A - 3)\n",
    "\n",
    "print(\"\\nMultiplying each element by 10: \", A * 10)\n",
    "\n",
    "print(\"\\nSquaring each element: \", A**2)\n",
    "\n",
    "A *= 2\n",
    "print(\"\\nDoubled each element of original array: \", A)\n",
    "\n",
    "B = np.array([\n",
    "    [1, 2, 3],\n",
    "    [4, 5, 6],\n",
    "    [7, 8, 9]\n",
    "])\n",
    "print(\"\\nOriginal array: \\n\", B)\n",
    "print(\"\\nTranspose of array: \\n\", B.T)"
   ]
  },
  {
   "cell_type": "code",
   "execution_count": 38,
   "metadata": {
    "scrolled": true
   },
   "outputs": [
    {
     "name": "stdout",
     "output_type": "stream",
     "text": [
      "\n",
      "Array elements in sorted order:\n",
      " [-1  0  1  2  3  4  4  5  6]\n",
      "\n",
      "Row-wise sorted array:\n",
      " [[ 1  2  4]\n",
      " [ 3  4  6]\n",
      " [-1  0  5]]\n",
      "\n",
      "Column-wise sorted by applying merge-sort:\n",
      " [[ 0 -1  2]\n",
      " [ 1  4  5]\n",
      " [ 3  4  6]]\n"
     ]
    }
   ],
   "source": [
    "import numpy as np\n",
    "\n",
    "A = np.array([\n",
    "    [1, 4, 2],\n",
    "    [3, 4, 6],\n",
    "    [0, -1, 5]\n",
    "])\n",
    "print(\"\\nArray elements in sorted order:\\n\", np.sort(A, axis = None))\n",
    "\n",
    "print(\"\\nRow-wise sorted array:\\n\", np.sort(A, axis = 1))\n",
    "\n",
    "print(\"\\nColumn-wise sorted by applying merge-sort:\\n\", np.sort(A, axis = 0, kind = 'mergesort'))\n",
    "\n",
    "print(\"\\n\")"
   ]
  },
  {
   "cell_type": "code",
   "execution_count": null,
   "metadata": {},
   "outputs": [],
   "source": []
  }
 ],
 "metadata": {
  "kernelspec": {
   "display_name": "Python 3",
   "language": "python",
   "name": "python3"
  },
  "language_info": {
   "codemirror_mode": {
    "name": "ipython",
    "version": 3
   },
   "file_extension": ".py",
   "mimetype": "text/x-python",
   "name": "python",
   "nbconvert_exporter": "python",
   "pygments_lexer": "ipython3",
   "version": "3.6.4"
  }
 },
 "nbformat": 4,
 "nbformat_minor": 2
}
