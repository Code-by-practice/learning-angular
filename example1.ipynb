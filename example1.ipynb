{
 "cells": [
  {
   "cell_type": "markdown",
   "metadata": {},
   "source": [
    "* The admission fee at a small fair is `$1.50` for children and `$4.00` for adults. On a certain day, `2200` people enter the fair and `$5050` is collected. How many children and how many audlts attended?\n",
    "\n",
    "Let:\n",
    "\n",
    "X1 = number of children\n",
    "X2 = numner of adults\n",
    "\n",
    "X1 + X2 = 2200\n",
    "1.50 X1 + 4 X2 = 5050"
   ]
  },
  {
   "cell_type": "code",
   "execution_count": 3,
   "metadata": {},
   "outputs": [
    {
     "data": {
      "text/plain": [
       "array([1500.,  700.])"
      ]
     },
     "execution_count": 3,
     "metadata": {},
     "output_type": "execute_result"
    }
   ],
   "source": [
    "import numpy as np\n",
    "\n",
    "A = np.array([\n",
    "    [1, 1],\n",
    "    [1.5, 4]\n",
    "])\n",
    "\n",
    "B = np.array([2200, 5050])\n",
    "\n",
    "np.linalg.solve(A, B)"
   ]
  },
  {
   "cell_type": "code",
   "execution_count": null,
   "metadata": {},
   "outputs": [],
   "source": []
  }
 ],
 "metadata": {
  "kernelspec": {
   "display_name": "Python 3",
   "language": "python",
   "name": "python3"
  },
  "language_info": {
   "codemirror_mode": {
    "name": "ipython",
    "version": 3
   },
   "file_extension": ".py",
   "mimetype": "text/x-python",
   "name": "python",
   "nbconvert_exporter": "python",
   "pygments_lexer": "ipython3",
   "version": "3.6.4"
  }
 },
 "nbformat": 4,
 "nbformat_minor": 2
}
