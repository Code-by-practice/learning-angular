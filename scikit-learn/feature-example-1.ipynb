{
 "cells": [
  {
   "cell_type": "code",
   "execution_count": 8,
   "metadata": {},
   "outputs": [
    {
     "data": {
      "text/plain": [
       "array([[0.10843373, 0.        ],\n",
       "       [0.73493976, 0.03703704],\n",
       "       [0.        , 0.91358025],\n",
       "       [0.56626506, 0.19753086],\n",
       "       [0.6746988 , 0.62962963],\n",
       "       [0.86746988, 0.22222222],\n",
       "       [0.12048193, 0.12345679],\n",
       "       [0.89156627, 0.59259259],\n",
       "       [0.04819277, 1.        ],\n",
       "       [1.        , 0.86419753]])"
      ]
     },
     "execution_count": 8,
     "metadata": {},
     "output_type": "execute_result"
    }
   ],
   "source": [
    "import numpy as np\n",
    "from sklearn.preprocessing import MinMaxScaler\n",
    "\n",
    "data = np.random.randint(0, 100, (10, 2))\n",
    "\n",
    "model = MinMaxScaler()\n",
    "\n",
    "model.fit(data)\n",
    "model.transform(data)\n",
    "\n",
    "# or\n",
    "# model.fit_transform(data)"
   ]
  },
  {
   "cell_type": "code",
   "execution_count": 17,
   "metadata": {},
   "outputs": [
    {
     "name": "stdout",
     "output_type": "stream",
     "text": [
      "(35, 3)\n",
      "(15, 3)\n"
     ]
    }
   ],
   "source": [
    "import numpy as np\n",
    "import pandas as pd\n",
    "from sklearn.model_selection import train_test_split\n",
    "\n",
    "data = np.random.randint(0, 101, (50, 4))\n",
    "\n",
    "df = pd.DataFrame(data=data, columns = ['f1', 'f2', 'f3', 'label'])\n",
    "\n",
    "X = df[['f1', 'f2', 'f3']]\n",
    "\n",
    "y = df['label']\n",
    "\n",
    "X_train, X_test, y_train, y_test = train_test_split(X, y, test_size=0.3, random_state=101)\n",
    "\n",
    "print(X_train.shape)\n",
    "print(X_test.shape)"
   ]
  },
  {
   "cell_type": "code",
   "execution_count": null,
   "metadata": {},
   "outputs": [],
   "source": []
  }
 ],
 "metadata": {
  "kernelspec": {
   "display_name": "Python 3",
   "language": "python",
   "name": "python3"
  },
  "language_info": {
   "codemirror_mode": {
    "name": "ipython",
    "version": 3
   },
   "file_extension": ".py",
   "mimetype": "text/x-python",
   "name": "python",
   "nbconvert_exporter": "python",
   "pygments_lexer": "ipython3",
   "version": "3.6.4"
  },
  "toc": {
   "base_numbering": 1,
   "nav_menu": {},
   "number_sections": true,
   "sideBar": true,
   "skip_h1_title": false,
   "title_cell": "Table of Contents",
   "title_sidebar": "Contents",
   "toc_cell": false,
   "toc_position": {},
   "toc_section_display": true,
   "toc_window_display": false
  }
 },
 "nbformat": 4,
 "nbformat_minor": 2
}
